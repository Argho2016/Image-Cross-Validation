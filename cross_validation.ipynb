{
  "nbformat": 4,
  "nbformat_minor": 0,
  "metadata": {
    "colab": {
      "name": "cross_validation.ipynb",
      "provenance": [],
      "collapsed_sections": []
    },
    "kernelspec": {
      "name": "python3",
      "display_name": "Python 3"
    }
  },
  "cells": [
    {
      "cell_type": "markdown",
      "metadata": {
        "id": "kFhkgbKlcPgq",
        "colab_type": "text"
      },
      "source": [
        "Cross Validation"
      ]
    },
    {
      "cell_type": "code",
      "metadata": {
        "id": "oLyt9UL_UAOB",
        "colab_type": "code",
        "colab": {}
      },
      "source": [
        "import numpy as np\n",
        "import matplotlib.pyplot as plt\n",
        "import pickle\n",
        "import os\n"
      ],
      "execution_count": null,
      "outputs": []
    },
    {
      "cell_type": "code",
      "metadata": {
        "id": "RKxpZIBwUES3",
        "colab_type": "code",
        "colab": {}
      },
      "source": [
        "from PIL import Image\n",
        "import tensorflow as tf\n",
        "from tensorflow import keras\n",
        "from keras.datasets import cifar10"
      ],
      "execution_count": null,
      "outputs": []
    },
    {
      "cell_type": "code",
      "metadata": {
        "id": "Fymp0C1kUY4L",
        "colab_type": "code",
        "colab": {}
      },
      "source": [
        "def load_batch(file_path, label_key='labels'):\n",
        "    \"\"\"Load a batch of CIFAR data\"\"\"\n",
        "    with open(file_path, 'rb') as f:\n",
        "        d = pickle.load(f, encoding='bytes')\n",
        "        # decode utf8\n",
        "        d_decoded = {}\n",
        "        for k, v in d.items():\n",
        "            d_decoded[k.decode('utf8')] = v\n",
        "        d = d_decoded\n",
        "    data = d['data']\n",
        "    labels = d[label_key]\n",
        "\n",
        "    data = data.reshape(data.shape[0], 3, 32, 32).transpose(0, 2, 3, 1)\n",
        "    return data, labels\n",
        "\n",
        "\n",
        "def load_data(path):\n",
        "    num_train_samples = 50000\n",
        "\n",
        "    x_train_local = np.empty((num_train_samples, 32, 32, 3), dtype='uint8')\n",
        "    y_train_local = np.empty((num_train_samples,), dtype='uint8')\n",
        "\n",
        "    for i in range(1, 6):\n",
        "        batch_file_path = os.path.join(path, 'data_batch_' + str(i))\n",
        "        (x_train_local[(i - 1) * 10000: i * 10000, :, :, :],\n",
        "         y_train_local[(i - 1) * 10000: i * 10000]) = load_batch(batch_file_path)\n",
        "        \n",
        "    fpath = os.path.join(path, 'test_batch')\n",
        "    x_test_local, y_test_local = load_batch(fpath)\n",
        "\n",
        "    y_train_local = np.reshape(y_train_local, (len(y_train_local), 1))\n",
        "    y_test_local = np.reshape(y_test_local, (len(y_test_local), 1))\n",
        "    \n",
        "    # x_train_local = x_train_local.transpose(0, 2, 3, 1)\n",
        "    # x_test_local = x_test_local.transpose(0, 2, 3, 1)\n",
        "\n",
        "    return (x_train_local, y_train_local), (x_test_local, y_test_local)"
      ],
      "execution_count": null,
      "outputs": []
    },
    {
      "cell_type": "code",
      "metadata": {
        "id": "NSQfOzeiUeKz",
        "colab_type": "code",
        "colab": {}
      },
      "source": [
        "# (x_train, y_train), (x_test, y_test) = cifar10.load_data()\n",
        "path = 'cifar-10-batches-py'\n",
        "(x_train, y_train), (x_test, y_test) = load_data(path)\n",
        "\n",
        "print(\"Train data (x_train): \", x_train.shape)\n",
        "print(\"Train labels (y_train): \", y_train.shape)\n",
        "print(\"Test data (x_test): \", x_test.shape)\n",
        "print(\"Test labels (y_test): \", y_test.shape)"
      ],
      "execution_count": null,
      "outputs": []
    },
    {
      "cell_type": "code",
      "metadata": {
        "id": "YqXpZFlNUk7D",
        "colab_type": "code",
        "colab": {}
      },
      "source": [
        "label = [\"\" for _ in range(10)]\n",
        "label[0]=\"airplane\"\n",
        "label[1]=\"automobile\"\n",
        "label[2]=\"bird\"\n",
        "label[3]=\"cat\"\n",
        "label[4]=\"deer\"\n",
        "label[5]=\"dog\"\n",
        "label[6]=\"frog\"\n",
        "label[7]=\"horse\"\n",
        "label[8]=\"ship\"\n",
        "label[9]=\"truck\""
      ],
      "execution_count": null,
      "outputs": []
    },
    {
      "cell_type": "code",
      "metadata": {
        "id": "5sPIhm0QVCt0",
        "colab_type": "code",
        "colab": {
          "base_uri": "https://localhost:8080/",
          "height": 114
        },
        "outputId": "7f093ac0-c3b9-4fe1-b5a8-df71f2af9878"
      },
      "source": [
        "num_plot = 5\n",
        "figure, axes = plt.subplots(1, num_plot)\n",
        "for i, ax in enumerate(axes.flat):\n",
        "    img_id = np.random.randint(0, x_train.shape[0])\n",
        "    ax.imshow(x_train[img_id])\n",
        "    ax.set_title(label[y_train[img_id][0]])\n",
        "\n",
        "\n",
        "figure.tight_layout()\n",
        "figure.set_facecolor('w')\n",
        "plt.show()"
      ],
      "execution_count": null,
      "outputs": [
        {
          "output_type": "display_data",
          "data": {
            "image/png": "[encoded data removed]",
            "text/plain": [
              "<Figure size 432x288 with 5 Axes>"
            ]
          },
          "metadata": {
            "tags": []
          }
        }
      ]
    },
    {
      "cell_type": "code",
      "metadata": {
        "id": "3HEhknBFVFGS",
        "colab_type": "code",
        "colab": {}
      },
      "source": [
        "def filter_class(class_name):\n",
        "    idx = (y_train == label.index(class_name)).reshape(x_train.shape[0])\n",
        "    x_train_filter = x_train[idx]\n",
        "    y_train_filter = y_train[idx]\n",
        "    \n",
        "    idx = (y_test == label.index(class_name)).reshape(x_test.shape[0])\n",
        "    x_test_filter = x_test[idx]\n",
        "    y_test_filter = y_test[idx]\n",
        "    \n",
        "    return (x_train_filter, y_train_filter), (x_test_filter, y_test_filter)"
      ],
      "execution_count": null,
      "outputs": []
    },
    {
      "cell_type": "code",
      "metadata": {
        "id": "b-rpd8mWVIKa",
        "colab_type": "code",
        "colab": {}
      },
      "source": [
        "def rgb2gray(rgb):\n",
        "    return np.dot(rgb[...,:3], [0.2989, 0.5870, 0.1140])"
      ],
      "execution_count": null,
      "outputs": []
    },
    {
      "cell_type": "code",
      "metadata": {
        "id": "LjnoTMIsVLE7",
        "colab_type": "code",
        "colab": {}
      },
      "source": [
        "def euclidean_distance(image1, image2):\n",
        "    gray1 = rgb2gray(image1)\n",
        "    gray2 = rgb2gray(image2)\n",
        "    \n",
        "    distance = gray1 - gray2\n",
        "    distance_squared = distance ** 2\n",
        "    \n",
        "    return np.sqrt(np.sum(distance_squared))"
      ],
      "execution_count": null,
      "outputs": []
    },
    {
      "cell_type": "code",
      "metadata": {
        "id": "xU6yIogKVM7T",
        "colab_type": "code",
        "colab": {}
      },
      "source": [
        "skf = StratifiedKFold(n_splits=3, shuffle=True)\n",
        "skf.get_n_splits(X, Y)\n",
        "foldNum=0\n",
        "for train_index, val_index in skf.split(X, Y):\n",
        "    #First cut all images from validation to train (if any exists)\n",
        "    transferAllClassBetweenFolders('validation', 'train', 1.0)\n",
        "    foldNum+=1\n",
        "    print(\"Results for fold\",foldNum)\n",
        "    X_train, X_val = X[train_index], X[val_index]\n",
        "    Y_train, Y_val = Y[train_index], Y[val_index]\n",
        "    # Move validation images of this fold from train folder to the validation folder\n",
        "    for eachIndex in range(len(X_val)):\n",
        "        classLabel=''\n",
        "        if(Y_val[eachIndex]==0):\n",
        "            classLabel=classLabels[0]\n",
        "        elif(Y_val[eachIndex]==1):\n",
        "            classLabel=classLabels[1]\n",
        "        else:\n",
        "            classLabel=classLabels[2]   \n",
        "        #Then, copy the validation images to the validation folder\n",
        "        shutil.move(datasetFolderName+'/train/'+classLabel+'/'+X_val[eachIndex], \n",
        "                    datasetFolderName+'/validation/'+classLabel+'/'+X_val[eachIndex])\n",
        "        \n",
        "    train_datagen = ImageDataGenerator(\n",
        "                rescale=1./255,\n",
        "        \t\tzoom_range=0.20,\n",
        "            \tfill_mode=\"nearest\"\n",
        "                )\n",
        "    validation_datagen = ImageDataGenerator(rescale=1./255)\n",
        "    test_datagen = ImageDataGenerator(rescale=1./255)\n",
        "        \n",
        "    #Start ImageClassification Model\n",
        "    train_generator = train_datagen.flow_from_directory(\n",
        "        train_path,\n",
        "        target_size=(img_rows, img_cols),\n",
        "        batch_size=batch_size,\n",
        "        class_mode='categorical',\n",
        "        subset='training')\n",
        "\n",
        "    validation_generator = validation_datagen.flow_from_directory(\n",
        "            validation_path,\n",
        "            target_size=(img_rows, img_cols),\n",
        "            batch_size=batch_size,\n",
        "            class_mode=None,  # only data, no labels\n",
        "            shuffle=False)   \n",
        "   \n",
        "    # fit model\n",
        "    history=model.fit_generator(train_generator, \n",
        "                        epochs=epoch)\n",
        "    \n",
        "    predictions = model.predict_generator(validation_generator, verbose=1)\n",
        "    yPredictions = np.argmax(predictions, axis=1)\n",
        "    true_classes = validation_generator.classes\n",
        "    # evaluate validation performance\n",
        "    print(\"***Performance on Validation data***\")    \n",
        "    valAcc, valPrec, valFScore = my_metrics(true_classes, yPredictions)"
      ],
      "execution_count": null,
      "outputs": []
    },
    {
      "cell_type": "code",
      "metadata": {
        "id": "Av7OHo9rZtN2",
        "colab_type": "code",
        "colab": {}
      },
      "source": [
        "print(\"==============TEST RESULTS============\")\n",
        "test_generator = test_datagen.flow_from_directory(\n",
        "        test_path,\n",
        "        target_size=(img_rows, img_cols),\n",
        "        batch_size=batch_size,\n",
        "        class_mode=None,\n",
        "        shuffle=False) \n",
        "predictions = model.predict(test_generator, verbose=1)\n",
        "yPredictions = np.argmax(predictions, axis=1)\n",
        "true_classes = test_generator.classes\n",
        "\n",
        "testAcc,testPrec, testFScore = my_metrics(true_classes, yPredictions)\n",
        "model.save(MODEL_FILENAME)"
      ],
      "execution_count": null,
      "outputs": []
    },
    {
      "cell_type": "code",
      "metadata": {
        "id": "-glpvQFkZw6D",
        "colab_type": "code",
        "colab": {}
      },
      "source": [
        ""
      ],
      "execution_count": null,
      "outputs": []
    }
  ]
}